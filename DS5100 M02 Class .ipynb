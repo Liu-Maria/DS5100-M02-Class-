{
 "cells": [
  {
   "cell_type": "code",
   "execution_count": 2,
   "id": "d15b467e",
   "metadata": {},
   "outputs": [
    {
     "data": {
      "text/plain": [
       "True"
      ]
     },
     "execution_count": 2,
     "metadata": {},
     "output_type": "execute_result"
    }
   ],
   "source": [
    "str = 'crunchy'\n",
    "len(str) >= 6"
   ]
  },
  {
   "cell_type": "code",
   "execution_count": 6,
   "id": "bbe26e84",
   "metadata": {},
   "outputs": [
    {
     "name": "stdout",
     "output_type": "stream",
     "text": [
      "cru\n",
      "chy\n"
     ]
    }
   ],
   "source": [
    "print(str[:3])\n",
    "print(str[-3:])"
   ]
  },
  {
   "cell_type": "code",
   "execution_count": 7,
   "id": "d298cd97",
   "metadata": {},
   "outputs": [
    {
     "name": "stdout",
     "output_type": "stream",
     "text": [
      "second\n"
     ]
    }
   ],
   "source": [
    "mylist = ['first','second','third']\n",
    "print(mylist[1])"
   ]
  },
  {
   "cell_type": "code",
   "execution_count": 8,
   "id": "320a9660",
   "metadata": {},
   "outputs": [
    {
     "ename": "AttributeError",
     "evalue": "'tuple' object has no attribute 'append'",
     "output_type": "error",
     "traceback": [
      "\u001b[0;31m---------------------------------------------------------------------------\u001b[0m",
      "\u001b[0;31mAttributeError\u001b[0m                            Traceback (most recent call last)",
      "\u001b[0;32m/var/folders/5j/pkdd38zd0xj7wqcxk5tm8pj40000gn/T/ipykernel_13729/3445921938.py\u001b[0m in \u001b[0;36m<module>\u001b[0;34m\u001b[0m\n\u001b[1;32m      1\u001b[0m \u001b[0mmytuple\u001b[0m \u001b[0;34m=\u001b[0m \u001b[0;36m1\u001b[0m\u001b[0;34m,\u001b[0m \u001b[0;36m2\u001b[0m\u001b[0;34m,\u001b[0m \u001b[0;36m3\u001b[0m\u001b[0;34m\u001b[0m\u001b[0;34m\u001b[0m\u001b[0m\n\u001b[0;32m----> 2\u001b[0;31m \u001b[0mmytuple\u001b[0m\u001b[0;34m.\u001b[0m\u001b[0mappend\u001b[0m\u001b[0;34m(\u001b[0m\u001b[0;36m4\u001b[0m\u001b[0;34m)\u001b[0m\u001b[0;34m\u001b[0m\u001b[0;34m\u001b[0m\u001b[0m\n\u001b[0m",
      "\u001b[0;31mAttributeError\u001b[0m: 'tuple' object has no attribute 'append'"
     ]
    }
   ],
   "source": [
    "mytuple = 1, 2, 3\n",
    "mytuple.append(4)"
   ]
  },
  {
   "cell_type": "code",
   "execution_count": 14,
   "id": "66c012ab",
   "metadata": {},
   "outputs": [
    {
     "name": "stdout",
     "output_type": "stream",
     "text": [
      "1\n",
      "ghost\n"
     ]
    },
    {
     "data": {
      "text/plain": [
       "False"
      ]
     },
     "execution_count": 14,
     "metadata": {},
     "output_type": "execute_result"
    }
   ],
   "source": [
    "ghost=1\n",
    "myset = ('ghoul', 'ghost', 'fiend')\n",
    "print(ghost)\n",
    "print('ghost')\n",
    "1 in myset"
   ]
  },
  {
   "cell_type": "code",
   "execution_count": 11,
   "id": "a5e48a9c",
   "metadata": {},
   "outputs": [
    {
     "data": {
      "text/plain": [
       "True"
      ]
     },
     "execution_count": 11,
     "metadata": {},
     "output_type": "execute_result"
    }
   ],
   "source": [
    "supernatural = 'ghoul'\n",
    "myset = ('ghoul', 'ghost', 'fiend')\n",
    "supernatural in myset"
   ]
  },
  {
   "cell_type": "code",
   "execution_count": 18,
   "id": "57e4bf35",
   "metadata": {},
   "outputs": [
    {
     "name": "stdout",
     "output_type": "stream",
     "text": [
      "name_age[joanqin]= 19\n"
     ]
    }
   ],
   "source": [
    "name_age = {'greg':15, 'anabel':22, 'joanqin':19}\n",
    "print('name_age[joanqin]=', name_age.get('joanqin'))"
   ]
  },
  {
   "cell_type": "code",
   "execution_count": null,
   "id": "3fea7b53",
   "metadata": {},
   "outputs": [],
   "source": []
  }
 ],
 "metadata": {
  "kernelspec": {
   "display_name": "Python 3 (ipykernel)",
   "language": "python",
   "name": "python3"
  },
  "language_info": {
   "codemirror_mode": {
    "name": "ipython",
    "version": 3
   },
   "file_extension": ".py",
   "mimetype": "text/x-python",
   "name": "python",
   "nbconvert_exporter": "python",
   "pygments_lexer": "ipython3",
   "version": "3.9.7"
  }
 },
 "nbformat": 4,
 "nbformat_minor": 5
}
